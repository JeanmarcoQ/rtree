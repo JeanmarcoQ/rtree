{
  "nbformat": 4,
  "nbformat_minor": 0,
  "metadata": {
    "colab": {
      "provenance": []
    },
    "kernelspec": {
      "name": "python3",
      "display_name": "Python 3"
    },
    "language_info": {
      "name": "python"
    }
  },
  "cells": [
    {
      "cell_type": "code",
      "execution_count": 1,
      "metadata": {
        "id": "NHznHMCtHnib"
      },
      "outputs": [],
      "source": [
        "import numpy as np\n",
        "import random\n",
        "from sklearn.cluster import KMeans\n",
        "indice_chr=65"
      ]
    },
    {
      "cell_type": "code",
      "source": [
        "def generar_data_para_kmeans(rectangulos):\n",
        "  data=[]\n",
        "  for i in range(len(rectangulos)):\n",
        "    data.append(rectangulos[i].centro_gravedad())\n",
        "  return data"
      ],
      "metadata": {
        "id": "5PMmxHpzM32B"
      },
      "execution_count": 2,
      "outputs": []
    },
    {
      "cell_type": "code",
      "source": [
        "def sub_nodos(nodote_rectangulos):\n",
        "  roo=generar_data_para_kmeans(nodote_rectangulos)\n",
        "  kmeans = KMeans(n_clusters=2, random_state=0, n_init=\"auto\").fit(roo)\n",
        "  etiquetas=kmeans.labels_\n",
        "  centroides=kmeans.cluster_centers_\n",
        "  return etiquetas"
      ],
      "metadata": {
        "id": "hiFMBbI2pid-"
      },
      "execution_count": 35,
      "outputs": []
    },
    {
      "cell_type": "code",
      "source": [
        "class rectangulo:\n",
        "    def __init__(self, x1, y1, x2, y2):\n",
        "        self.x1 = x1\n",
        "        self.y1 = y1\n",
        "        self.x2 = x2\n",
        "        self.y2 = y2\n",
        "    def centro_gravedad(self):\n",
        "        return ((self.x1+self.x2)/2,(self.y1+self.y2)/2)"
      ],
      "metadata": {
        "id": "upbbLdQuHv2I"
      },
      "execution_count": 36,
      "outputs": []
    },
    {
      "cell_type": "code",
      "source": [
        "def encontrar_extremo(tipo_coordenada,arreglo_rectangulo):\n",
        "    if tipo_coordenada==\"x1\":\n",
        "        valor=arreglo_rectangulo[0].x1\n",
        "        indice=0\n",
        "        for i in range(len(arreglo_rectangulo)):\n",
        "            if valor>arreglo_rectangulo[i].x1:\n",
        "                indice=i\n",
        "                valor=arreglo_rectangulo[i].x1\n",
        "        return valor\n",
        "    if tipo_coordenada==\"x2\":\n",
        "        valor=arreglo_rectangulo[0].x2\n",
        "        indice=0\n",
        "        for i in range(len(arreglo_rectangulo)):\n",
        "            if valor<arreglo_rectangulo[i].x2:\n",
        "                indice=i\n",
        "                valor=arreglo_rectangulo[i].x2\n",
        "        return valor\n",
        "    if tipo_coordenada==\"y1\":\n",
        "        valor=arreglo_rectangulo[0].y1\n",
        "        indice=0\n",
        "        for i in range(len(arreglo_rectangulo)):\n",
        "            if valor>arreglo_rectangulo[i].y1:\n",
        "                indice=i\n",
        "                valor=arreglo_rectangulo[i].y1\n",
        "        return valor\n",
        "    if tipo_coordenada==\"y2\":\n",
        "        valor=arreglo_rectangulo[0].y2\n",
        "        indice=0\n",
        "        for i in range(len(arreglo_rectangulo)):\n",
        "            if valor<arreglo_rectangulo[i].y2:\n",
        "                indice=i\n",
        "                valor=arreglo_rectangulo[i].y2\n",
        "        return valor"
      ],
      "metadata": {
        "id": "7lmZhmEkIn0B"
      },
      "execution_count": 37,
      "outputs": []
    },
    {
      "cell_type": "code",
      "source": [
        "N = 10\n",
        "dentro_final=[]\n",
        "dentro_final.append(rectangulo(1,1,2,2))\n",
        "dentro_final.append(rectangulo(3,2,5,4))\n",
        "dentro_final.append(rectangulo(8,2,10,3))\n",
        "\n",
        "dentro_final.append(rectangulo(15,1,18,4))\n",
        "dentro_final.append(rectangulo(10,1,11,6))\n",
        "dentro_final.append(rectangulo(1,10,3,13))\n",
        "dentro_final.append(rectangulo(16,16,21,23))\n",
        "dentro_final.append(rectangulo(22,24,27,30))\n",
        "dentro_final.append(rectangulo(8,8,15,15))\n",
        "dentro_final.append(rectangulo(1,18,3,25))"
      ],
      "metadata": {
        "id": "NzVCHge1Hq-R"
      },
      "execution_count": 38,
      "outputs": []
    },
    {
      "cell_type": "code",
      "source": [
        "class nodito:\n",
        "    def __init__(self, nombre, datos):\n",
        "        self.nombre=nombre\n",
        "        self.datos=rectangulo(datos[0],datos[1],datos[2],datos[3])\n",
        "        self.hijo=None\n",
        "    def insertar_hijo(self,elementos):\n",
        "        self.hijo=(nodo_grande(elementos))\n",
        "        print(\"Nodote insertado\")\n",
        "    def tipo(self):\n",
        "        return \"nodito\""
      ],
      "metadata": {
        "id": "frShVwN3Hr-v"
      },
      "execution_count": 39,
      "outputs": []
    },
    {
      "cell_type": "code",
      "source": [
        "class nodo_grande:\n",
        "    def __init__(self,elementos):\n",
        "        self.elementos=elementos\n",
        "        self.rect_nodote=rectangulo(encontrar_extremo(\"x1\",elementos),encontrar_extremo(\"y1\",elementos),\n",
        "                                    encontrar_extremo(\"x2\",elementos),encontrar_extremo(\"y2\",elementos))\n",
        "        self.noditos=[]\n",
        "    def insertar_noditos(self,nombre, datos):\n",
        "        self.noditos.append(nodito(nombre, datos))\n",
        "        print(\"nodito insertado\")\n",
        "    def tipo(self):\n",
        "        return \"nodote\""
      ],
      "metadata": {
        "id": "vJFvxk1IHzWY"
      },
      "execution_count": 40,
      "outputs": []
    },
    {
      "cell_type": "code",
      "source": [
        "class rtree:\n",
        "    def __init__(self,maximo_hijos,profundidad_total,elementos):\n",
        "        self.raiz=nodo_grande(elementos)\n",
        "        self.max_num=maximo_hijos\n",
        "        self.profundidad_propuesta=profundidad_total\n",
        "            \n",
        "    def insertar_dentro_nodo_grande(self,nodo_grande_actual, nombre, datos):\n",
        "        if len(nodo_grande_actual.noditos)<self.max_num:\n",
        "            nodo_grande_actual.insertar_noditos(nombre,datos)\n",
        "    \n",
        "    def insertar_rtree(self, nodo):\n",
        "        if nodo.tipo()==\"nodote\":\n",
        "            if len(nodo.elementos)>=2:\n",
        "                dispersa=sub_nodos(nodo.elementos)\n",
        "                dispersa=[dispersa[i] for i in range(len(dispersa))]\n",
        "                if verifica\n",
        "\n",
        "\n",
        "\n",
        "                print(dispersa)\n",
        "        else:\n",
        "            print(\"Nodito\")\n",
        "\n",
        "    "
      ],
      "metadata": {
        "id": "uyFslex1H0mg"
      },
      "execution_count": 56,
      "outputs": []
    },
    {
      "cell_type": "code",
      "source": [
        "rtree=rtree(3,3,dentro_final)"
      ],
      "metadata": {
        "id": "rtfCiSHBH2D4"
      },
      "execution_count": 57,
      "outputs": []
    },
    {
      "cell_type": "code",
      "source": [
        "data_prueba2=[7,6,4,8]\n",
        "data_prueba=[1,5,6,8]"
      ],
      "metadata": {
        "id": "rPSN20iJH8D_"
      },
      "execution_count": 58,
      "outputs": []
    },
    {
      "cell_type": "code",
      "source": [
        "rtree.insertar_dentro_nodo_grande(rtree.raiz,1,data_prueba)\n",
        "rtree.insertar_dentro_nodo_grande(rtree.raiz,1,data_prueba)\n",
        "rtree.insertar_dentro_nodo_grande(rtree.raiz,1,data_prueba)\n",
        "\n"
      ],
      "metadata": {
        "colab": {
          "base_uri": "https://localhost:8080/"
        },
        "id": "JElgSJsCH38Q",
        "outputId": "abcf019e-77c6-4c72-912b-d3028c19df01"
      },
      "execution_count": 59,
      "outputs": [
        {
          "output_type": "stream",
          "name": "stdout",
          "text": [
            "nodito insertado\n",
            "nodito insertado\n",
            "nodito insertado\n"
          ]
        }
      ]
    },
    {
      "cell_type": "code",
      "source": [
        "rtree.insertar_rtree(rtree.raiz)"
      ],
      "metadata": {
        "colab": {
          "base_uri": "https://localhost:8080/"
        },
        "id": "iM2o-V-2H5RI",
        "outputId": "3d7f1919-791b-4215-f3f1-628acc2f0f8f"
      },
      "execution_count": 60,
      "outputs": [
        {
          "output_type": "stream",
          "name": "stdout",
          "text": [
            "8 2 0\n",
            "[0, 0, 0, 0, 0, 0, 1, 1, 0, 0]\n"
          ]
        }
      ]
    },
    {
      "cell_type": "code",
      "source": [
        "import matplotlib.pyplot as plt\n",
        "from matplotlib.patches import Rectangle"
      ],
      "metadata": {
        "id": "Lrek5LxcIcE_"
      },
      "execution_count": 14,
      "outputs": []
    },
    {
      "cell_type": "code",
      "source": [
        "colors=np.random.rand(10)\n",
        "cmap=plt.cm.RdYlBu_r\n",
        "c=cmap(colors)"
      ],
      "metadata": {
        "id": "8PhzFl9MI64w"
      },
      "execution_count": 15,
      "outputs": []
    },
    {
      "cell_type": "code",
      "source": [
        "test_nodote=nodo_grande(dentro_final)\n",
        "xx1=test_nodote.rect_nodote.x1\n",
        "xx2=test_nodote.rect_nodote.x2\n",
        "yy1=test_nodote.rect_nodote.y1\n",
        "yy2=test_nodote.rect_nodote.y2"
      ],
      "metadata": {
        "id": "jeTCbmztK505"
      },
      "execution_count": 16,
      "outputs": []
    },
    {
      "cell_type": "code",
      "source": [
        "print(xx1+5,\" - \",12)"
      ],
      "metadata": {
        "colab": {
          "base_uri": "https://localhost:8080/"
        },
        "id": "W8bJErvcK6w5",
        "outputId": "6da0807b-6758-4d43-efd6-cef0f62a504a"
      },
      "execution_count": 17,
      "outputs": [
        {
          "output_type": "stream",
          "name": "stdout",
          "text": [
            "6  -  12\n"
          ]
        }
      ]
    },
    {
      "cell_type": "code",
      "source": [
        "\n",
        "fig = plt.figure()\n",
        "ax = fig.add_subplot(111)\n",
        "for i in range(N):\n",
        "  x1=int(dentro_final[i].x1)\n",
        "  y1=int(dentro_final[i].y1)\n",
        "  x2=int(dentro_final[i].x2)\n",
        "  y2=int(dentro_final[i].y2)\n",
        "    \n",
        "  ax.add_patch(Rectangle((x1,y1),x2-x1,y2-y1,color=c[i]))\n",
        "ax.add_patch(Rectangle((xx1,yy1),xx2-xx1,yy2-yy1,color='purple',fill=None))\n",
        "\n",
        "plt.xlim(-5,35)\n",
        "plt.ylim(-5,35)\n",
        "plt.show()"
      ],
      "metadata": {
        "colab": {
          "base_uri": "https://localhost:8080/",
          "height": 435
        },
        "id": "UxqfqHW4I7oA",
        "outputId": "30f44199-0b72-4920-c275-b9b44db4b3cc"
      },
      "execution_count": 18,
      "outputs": [
        {
          "output_type": "display_data",
          "data": {
            "text/plain": [
              "<Figure size 640x480 with 1 Axes>"
            ],
            "image/png": "[encoded data removed]"
          },
          "metadata": {}
        }
      ]
    },
    {
      "cell_type": "code",
      "source": [
        "a,b,c,d=0,0,0,0\n",
        "print(a,b,c,d)"
      ],
      "metadata": {
        "colab": {
          "base_uri": "https://localhost:8080/"
        },
        "id": "njZvAphCI8mo",
        "outputId": "cf583211-e415-43f5-a37f-c56ca73bfc58"
      },
      "execution_count": 19,
      "outputs": [
        {
          "output_type": "stream",
          "name": "stdout",
          "text": [
            "0 0 0 0\n"
          ]
        }
      ]
    },
    {
      "cell_type": "code",
      "source": [
        "# test nodo\n"
      ],
      "metadata": {
        "colab": {
          "base_uri": "https://localhost:8080/"
        },
        "id": "TcGlN5CQJt_h",
        "outputId": "19bb63d7-9c5b-4ee4-af1d-dea52f8ce260"
      },
      "execution_count": 46,
      "outputs": [
        {
          "output_type": "execute_result",
          "data": {
            "text/plain": [
              "<__main__.nodo_grande at 0x7f07371729b0>"
            ]
          },
          "metadata": {},
          "execution_count": 46
        }
      ]
    },
    {
      "cell_type": "code",
      "source": [],
      "metadata": {
        "id": "kP6E3dwPKkj5"
      },
      "execution_count": 64,
      "outputs": []
    },
    {
      "cell_type": "code",
      "source": [
        "roo=generar_data_para_kmeans(dentro_final)"
      ],
      "metadata": {
        "id": "prM8FDQfL5OB"
      },
      "execution_count": 65,
      "outputs": []
    },
    {
      "cell_type": "code",
      "source": [
        "print(roo)"
      ],
      "metadata": {
        "colab": {
          "base_uri": "https://localhost:8080/"
        },
        "id": "nYd2bqPiMVhh",
        "outputId": "d5b5eb0d-03a1-49fb-83ef-ab9f1b84871d"
      },
      "execution_count": 66,
      "outputs": [
        {
          "output_type": "stream",
          "name": "stdout",
          "text": [
            "[(1.5, 1.5), (4.0, 3.0), (9.0, 2.5), (16.5, 2.5), (10.5, 3.5), (2.0, 11.5), (18.5, 19.5), (24.5, 27.0), (11.5, 11.5), (2.0, 21.5)]\n"
          ]
        }
      ]
    },
    {
      "cell_type": "code",
      "source": [
        "kmeans = KMeans(n_clusters=2, random_state=0, n_init=\"auto\").fit(roo)\n",
        "etiquetas=kmeans.labels_\n",
        "centroides=kmeans.cluster_centers_"
      ],
      "metadata": {
        "id": "YN0XSh_AMWth"
      },
      "execution_count": 69,
      "outputs": []
    },
    {
      "cell_type": "code",
      "source": [
        "centroides"
      ],
      "metadata": {
        "colab": {
          "base_uri": "https://localhost:8080/"
        },
        "id": "GmuOZHVEMiGo",
        "outputId": "e58ffe15-ceb3-47c9-dd64-59ecc20b5883"
      },
      "execution_count": 70,
      "outputs": [
        {
          "output_type": "execute_result",
          "data": {
            "text/plain": [
              "array([[ 7.125 ,  7.1875],\n",
              "       [21.5   , 23.25  ]])"
            ]
          },
          "metadata": {},
          "execution_count": 70
        }
      ]
    },
    {
      "cell_type": "code",
      "source": [
        "etiquetas"
      ],
      "metadata": {
        "colab": {
          "base_uri": "https://localhost:8080/"
        },
        "id": "jxDgGwsjMkyo",
        "outputId": "ec0419de-f002-49c4-97af-b6026294500a"
      },
      "execution_count": 71,
      "outputs": [
        {
          "output_type": "execute_result",
          "data": {
            "text/plain": [
              "array([0, 0, 0, 0, 0, 0, 1, 1, 0, 0], dtype=int32)"
            ]
          },
          "metadata": {},
          "execution_count": 71
        }
      ]
    },
    {
      "cell_type": "code",
      "source": [
        "roo[]"
      ],
      "metadata": {
        "id": "Q77lWuAvMnVQ"
      },
      "execution_count": null,
      "outputs": []
    },
    {
      "cell_type": "code",
      "source": [
        "\"\"\"      \n",
        "    def inserta_dinamico(self,nodo_actual, nombre, datos):\n",
        "        if nodo_actual.tipo() == \"nodote\":\n",
        "            insertar_dentro_nodo_grande(nodo_actual,nombre,nombre,datos)\n",
        "        else:\n",
        "            temporal_node=nodito(nombre,datos)\n",
        "            for i in range(len(nodo_actual.noditos)):\n",
        "                temporal_node.esta_dentro(nodo_actual.noditos[i].datos)\n",
        "\"\"\""
      ],
      "metadata": {
        "id": "-3V_siv7lvLE"
      },
      "execution_count": null,
      "outputs": []
    },
    {
      "cell_type": "code",
      "source": [
        "str(154)"
      ],
      "metadata": {
        "colab": {
          "base_uri": "https://localhost:8080/",
          "height": 35
        },
        "id": "6JmU7gscosY9",
        "outputId": "556abfd5-e428-45ab-acb8-9610b51c23a6"
      },
      "execution_count": 25,
      "outputs": [
        {
          "output_type": "execute_result",
          "data": {
            "text/plain": [
              "'154'"
            ],
            "application/vnd.google.colaboratory.intrinsic+json": {
              "type": "string"
            }
          },
          "metadata": {},
          "execution_count": 25
        }
      ]
    },
    {
      "cell_type": "code",
      "source": [
        "chr(65)"
      ],
      "metadata": {
        "colab": {
          "base_uri": "https://localhost:8080/",
          "height": 35
        },
        "id": "mXK7SN7Totms",
        "outputId": "a77be12a-1952-49a0-fb05-6dda10a3f8cf"
      },
      "execution_count": 27,
      "outputs": [
        {
          "output_type": "execute_result",
          "data": {
            "text/plain": [
              "'A'"
            ],
            "application/vnd.google.colaboratory.intrinsic+json": {
              "type": "string"
            }
          },
          "metadata": {},
          "execution_count": 27
        }
      ]
    },
    {
      "cell_type": "code",
      "source": [
        "]"
      ],
      "metadata": {
        "id": "xcfsgL1Yo2q0"
      },
      "execution_count": null,
      "outputs": []
    }
  ]
}
