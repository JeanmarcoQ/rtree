{
  "nbformat": 4,
  "nbformat_minor": 0,
  "metadata": {
    "colab": {
      "provenance": []
    },
    "kernelspec": {
      "name": "python3",
      "display_name": "Python 3"
    },
    "language_info": {
      "name": "python"
    }
  },
  "cells": [
    {
      "cell_type": "code",
      "execution_count": 142,
      "metadata": {
        "id": "NHznHMCtHnib"
      },
      "outputs": [],
      "source": [
        "import numpy as np\n",
        "import random\n",
        "from sklearn.cluster import KMeans\n",
        "import matplotlib.pyplot as plt\n",
        "from matplotlib.patches import Rectangle\n",
        "indice_chr=65"
      ]
    },
    {
      "cell_type": "code",
      "source": [
        "def generar_data_para_kmeans(rectangulos):\n",
        "  data=[]\n",
        "  for i in range(len(rectangulos)):\n",
        "    data.append(rectangulos[i].centro_gravedad())\n",
        "  return data"
      ],
      "metadata": {
        "id": "5PMmxHpzM32B"
      },
      "execution_count": 2,
      "outputs": []
    },
    {
      "cell_type": "code",
      "source": [
        "def sub_nodos(nodote_rectangulos):\n",
        "  roo=generar_data_para_kmeans(nodote_rectangulos)\n",
        "  kmeans = KMeans(n_clusters=2, random_state=0, n_init=\"auto\").fit(roo)\n",
        "  etiquetas=kmeans.labels_\n",
        "  centroides=kmeans.cluster_centers_\n",
        "  return etiquetas"
      ],
      "metadata": {
        "id": "hiFMBbI2pid-"
      },
      "execution_count": 35,
      "outputs": []
    },
    {
      "cell_type": "code",
      "source": [
        "class rectangulo:\n",
        "    def __init__(self, x1, y1, x2, y2):\n",
        "        self.x1 = x1\n",
        "        self.y1 = y1\n",
        "        self.x2 = x2\n",
        "        self.y2 = y2\n",
        "    def centro_gravedad(self):\n",
        "        return ((self.x1+self.x2)/2,(self.y1+self.y2)/2)"
      ],
      "metadata": {
        "id": "upbbLdQuHv2I"
      },
      "execution_count": 36,
      "outputs": []
    },
    {
      "cell_type": "code",
      "source": [
        "def encontrar_extremo(tipo_coordenada,arreglo_rectangulo):\n",
        "    if tipo_coordenada==\"x1\":\n",
        "        valor=arreglo_rectangulo[0].x1\n",
        "        indice=0\n",
        "        for i in range(len(arreglo_rectangulo)):\n",
        "            if valor>arreglo_rectangulo[i].x1:\n",
        "                indice=i\n",
        "                valor=arreglo_rectangulo[i].x1\n",
        "        return valor\n",
        "    if tipo_coordenada==\"x2\":\n",
        "        valor=arreglo_rectangulo[0].x2\n",
        "        indice=0\n",
        "        for i in range(len(arreglo_rectangulo)):\n",
        "            if valor<arreglo_rectangulo[i].x2:\n",
        "                indice=i\n",
        "                valor=arreglo_rectangulo[i].x2\n",
        "        return valor\n",
        "    if tipo_coordenada==\"y1\":\n",
        "        valor=arreglo_rectangulo[0].y1\n",
        "        indice=0\n",
        "        for i in range(len(arreglo_rectangulo)):\n",
        "            if valor>arreglo_rectangulo[i].y1:\n",
        "                indice=i\n",
        "                valor=arreglo_rectangulo[i].y1\n",
        "        return valor\n",
        "    if tipo_coordenada==\"y2\":\n",
        "        valor=arreglo_rectangulo[0].y2\n",
        "        indice=0\n",
        "        for i in range(len(arreglo_rectangulo)):\n",
        "            if valor<arreglo_rectangulo[i].y2:\n",
        "                indice=i\n",
        "                valor=arreglo_rectangulo[i].y2\n",
        "        return valor"
      ],
      "metadata": {
        "id": "7lmZhmEkIn0B"
      },
      "execution_count": 37,
      "outputs": []
    },
    {
      "cell_type": "code",
      "source": [
        "N = 10\n",
        "dentro_final=[]\n",
        "dentro_final.append(rectangulo(1,1,2,2))\n",
        "dentro_final.append(rectangulo(3,2,5,4))\n",
        "dentro_final.append(rectangulo(8,2,10,3))\n",
        "\n",
        "dentro_final.append(rectangulo(15,1,18,4))\n",
        "dentro_final.append(rectangulo(10,1,11,6))\n",
        "dentro_final.append(rectangulo(1,10,3,13))\n",
        "dentro_final.append(rectangulo(16,16,21,23))\n",
        "dentro_final.append(rectangulo(22,24,27,30))\n",
        "dentro_final.append(rectangulo(8,8,15,15))\n",
        "dentro_final.append(rectangulo(1,18,3,25))"
      ],
      "metadata": {
        "id": "NzVCHge1Hq-R"
      },
      "execution_count": 38,
      "outputs": []
    },
    {
      "cell_type": "code",
      "source": [
        "class nodito:\n",
        "    def __init__(self, nombre):\n",
        "        self.nombre=nombre\n",
        "        self.hijo=None\n",
        "    def insertar_hijo(self,elementos):\n",
        "        self.hijo=(nodo_grande(elementos))\n",
        "        print(\"Nodote insertado\")\n",
        "    def tipo(self):\n",
        "        return \"nodito\""
      ],
      "metadata": {
        "id": "frShVwN3Hr-v"
      },
      "execution_count": 71,
      "outputs": []
    },
    {
      "cell_type": "code",
      "source": [
        "class nodo_grande:\n",
        "    def __init__(self,elementos):\n",
        "        self.elementos=elementos\n",
        "        self.rect_nodote=rectangulo(encontrar_extremo(\"x1\",elementos),encontrar_extremo(\"y1\",elementos),\n",
        "                                    encontrar_extremo(\"x2\",elementos),encontrar_extremo(\"y2\",elementos))\n",
        "        self.noditos=[]\n",
        "    def insertar_noditos(self,nombre):\n",
        "        self.noditos.append(nodito(nombre))\n",
        "        print(\"nodito insertado\")\n",
        "    def tipo(self):\n",
        "        return \"nodote\""
      ],
      "metadata": {
        "id": "vJFvxk1IHzWY"
      },
      "execution_count": 72,
      "outputs": []
    },
    {
      "cell_type": "code",
      "source": [
        "class rtree:\n",
        "    def __init__(self,maximo_hijos,profundidad_total,elementos):\n",
        "        self.raiz=nodo_grande(elementos)\n",
        "        self.max_num=maximo_hijos\n",
        "        self.profundidad_propuesta=profundidad_total\n",
        "            \n",
        "    def insertar_dentro_nodo_grande(self,nodo_grande_actual, nombre, datos):\n",
        "        if len(nodo_grande_actual.noditos)<self.max_num:\n",
        "            nodo_grande_actual.insertar_noditos(nombre,datos)\n",
        "    \n",
        "    def insertar_rtree(self, nodo):\n",
        "        print(\"ta entrando \")\n",
        "        if nodo.tipo()==\"nodote\":\n",
        "            if len(nodo.elementos)>=self.max_num:\n",
        "                dispersa=sub_nodos(nodo.elementos)\n",
        "                dispersa=[dispersa[i] for i in range(len(dispersa))]\n",
        "                print(\"dispersa: \",dispersa)\n",
        "                verifica=0\n",
        "                for i in range(self.max_num):\n",
        "                    if dispersa.count(i)<self.max_num and dispersa.count(i)!=0:\n",
        "                    #if dispersa.count(i)==0:\n",
        "                        verifica=1\n",
        "                if verifica==0:\n",
        "                    for i in range(self.max_num):\n",
        "                        if dispersa.count(i)!=0:\n",
        "                            elementos_usables=[]\n",
        "                            for j in range(len(dispersa)):\n",
        "                                if dispersa[j]==i:\n",
        "                                    elementos_usables.append(nodo.elementos[j])\n",
        "                            nodo.insertar_noditos(\"a\")\n",
        "                            nodo.noditos[i].insertar_hijo(elementos_usables)\n",
        "                            self.insertar_rtree(nodo.noditos[i].hijo)\n",
        "                            \n",
        "\n",
        "    def recorrido_rtree(self,nodo,nivel):\n",
        "        print(\"nivel_____________________________ :\",nivel)\n",
        "        if len(nodo.noditos)!=0:\n",
        "            for i in range(len(nodo.noditos)):\n",
        "                self.recorrido_rtree(nodo.noditos[i].hijo,nivel+1)\n",
        "        else:\n",
        "            print(\"nivel: \",nivel,\"elementos here!\",len(nodo.elementos))\n",
        "\n",
        "\n",
        "    def pintar_rectangulo(self,nodo,ax,nivel,c):\n",
        "        xx1=encontrar_extremo(\"x1\",nodo.elementos)\n",
        "        yy1=encontrar_extremo(\"y1\",nodo.elementos)\n",
        "        xx2=encontrar_extremo(\"x2\",nodo.elementos)\n",
        "        yy2=encontrar_extremo(\"y2\",nodo.elementos)\n",
        "        #print(xx1,\"-\",yy1,\"-\",xx2,\"-\",yy2)\n",
        "        pintura=np.random.randint(10)\n",
        "        ax.add_patch(Rectangle((xx1,yy1),xx2-xx1,yy2-yy1,color=c[pintura],fill=None,linewidth=4-nivel))\n",
        "        if len(nodo.noditos)!=0:\n",
        "            for i in range(len(nodo.noditos)):\n",
        "                self.pintar_rectangulo(nodo.noditos[i].hijo,ax,nivel+1,c)\n",
        "    def pintar_cuadro(self,nodo):\n",
        "        colors=np.random.rand(20)\n",
        "        cmap=plt.cm.RdYlBu_r\n",
        "        c=cmap(colors)\n",
        "        fig = plt.figure()\n",
        "        ax = fig.add_subplot(111)\n",
        "        for i in range(N):\n",
        "            x1=int(nodo.elementos[i].x1)\n",
        "            y1=int(nodo.elementos[i].y1)\n",
        "            x2=int(nodo.elementos[i].x2)\n",
        "            y2=int(nodo.elementos[i].y2)\n",
        "            \n",
        "            ax.add_patch(Rectangle((x1,y1),x2-x1,y2-y1,color=c[i]))\n",
        "        self.pintar_rectangulo(nodo,ax,0,c)\n",
        "\n",
        "        plt.xlim(-5,35)\n",
        "        plt.ylim(-5,35)\n",
        "        plt.show()\n",
        "\n",
        "\n",
        "        \n",
        "\n",
        "\n",
        "    "
      ],
      "metadata": {
        "id": "uyFslex1H0mg"
      },
      "execution_count": 204,
      "outputs": []
    },
    {
      "cell_type": "code",
      "source": [
        "rtree=rtree(2,2,dentro_final)"
      ],
      "metadata": {
        "id": "rtfCiSHBH2D4"
      },
      "execution_count": 205,
      "outputs": []
    },
    {
      "cell_type": "code",
      "source": [
        "data_prueba2=[7,6,4,8]\n",
        "data_prueba=[1,5,6,8]"
      ],
      "metadata": {
        "id": "rPSN20iJH8D_"
      },
      "execution_count": 206,
      "outputs": []
    },
    {
      "cell_type": "code",
      "source": [
        "rtree.insertar_rtree(rtree.raiz)\n"
      ],
      "metadata": {
        "colab": {
          "base_uri": "https://localhost:8080/"
        },
        "id": "JElgSJsCH38Q",
        "outputId": "fda028f6-95d4-4a98-e7a3-4f9c52d59776"
      },
      "execution_count": 207,
      "outputs": [
        {
          "output_type": "stream",
          "name": "stdout",
          "text": [
            "ta entrando \n",
            "dispersa:  [0, 0, 0, 0, 0, 0, 1, 1, 0, 0]\n",
            "nodito insertado\n",
            "Nodote insertado\n",
            "ta entrando \n",
            "dispersa:  [0, 0, 0, 0, 0, 1, 0, 1]\n",
            "nodito insertado\n",
            "Nodote insertado\n",
            "ta entrando \n",
            "dispersa:  [0, 0, 0, 0, 0, 1]\n",
            "nodito insertado\n",
            "Nodote insertado\n",
            "ta entrando \n",
            "dispersa:  [0, 1]\n",
            "nodito insertado\n",
            "Nodote insertado\n",
            "ta entrando \n",
            "dispersa:  [0, 1]\n"
          ]
        }
      ]
    },
    {
      "cell_type": "code",
      "source": [
        "rtree.recorrido_rtree(rtree.raiz,0)"
      ],
      "metadata": {
        "colab": {
          "base_uri": "https://localhost:8080/"
        },
        "id": "iM2o-V-2H5RI",
        "outputId": "e85665e8-8da4-453b-ac2d-4b48c1efb6d5"
      },
      "execution_count": 208,
      "outputs": [
        {
          "output_type": "stream",
          "name": "stdout",
          "text": [
            "nivel_____________________________ : 0\n",
            "nivel_____________________________ : 1\n",
            "nivel_____________________________ : 2\n",
            "nivel:  2 elementos here! 6\n",
            "nivel_____________________________ : 2\n",
            "nivel:  2 elementos here! 2\n",
            "nivel_____________________________ : 1\n",
            "nivel:  1 elementos here! 2\n"
          ]
        }
      ]
    },
    {
      "cell_type": "code",
      "source": [
        "rtree.pintar_cuadro(rtree.raiz)"
      ],
      "metadata": {
        "colab": {
          "base_uri": "https://localhost:8080/",
          "height": 435
        },
        "id": "_p4heBgbA1L-",
        "outputId": "8be317bc-56fc-49f6-fd3e-e45ab252d28d"
      },
      "execution_count": 210,
      "outputs": [
        {
          "output_type": "display_data",
          "data": {
            "text/plain": [
              "<Figure size 640x480 with 1 Axes>"
            ],
            "image/png": "[encoded data removed]"
          },
          "metadata": {}
        }
      ]
    }
  ]
}
